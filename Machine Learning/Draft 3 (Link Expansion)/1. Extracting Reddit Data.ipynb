{
  "cells": [
    {
      "cell_type": "code",
      "source": "import praw\nimport pandas as pd\n\nimport glob\nfrom textblob import TextBlob\nimport csv\nimport time ",
      "metadata": {
        "source_hash": "4783bacb",
        "execution_start": 1704222601924,
        "execution_millis": 566,
        "deepnote_to_be_reexecuted": false,
        "cell_id": "0e8a569ee0434e3da3bb35ce7f77b4db",
        "deepnote_cell_type": "code"
      },
      "outputs": [],
      "execution_count": 1,
      "block_group": "a5ce9313c9274d5dbfa3db08f1c158f0"
    },
    {
      "cell_type": "markdown",
      "source": "This code fetches data from various Reddit posts and stores them into pandas DataFrame. The primary steps involved are:\n\n- Establish a connection to the Reddit API using the PRAW library and the provided credentials.\n- Define a function called `fetch_subreddit_data()`. This function accepts a subreddit name and a list of post URLs. For each post, it fetches the title, author, content, score, and creation time, and appends them to a DataFrame. The function also fetches the similar data for each comment in a post if it is not deleted. It uses the `praw.models.Comment` to ensure the replies are indeed comments.\n- Defines a list of subreddit names and a dictionary of post URLs for each subreddit.\n- Iterates over the subreddit names, fetches data using the `fetch_subreddit_data()` function, and saves the output DataFrame to a CSV file named after the subreddit. The `index=False` argument in `to_csv` function ensures that the indexes are not included in the output CSV file.",
      "metadata": {
        "formattedRanges": [],
        "cell_id": "38de40b83bb74042af2727aed3366f73",
        "deepnote_cell_type": "text-cell-p"
      },
      "block_group": "71ceeb4ec02a496f9b2cb5014cd84886"
    },
    {
      "cell_type": "code",
      "source": "# Setting up PRAW with our Reddit app credentials\nreddit = praw.Reddit(\n    client_id='1Q7zYJ3FBAowuOvu_axlLA',        \n    client_secret='OZXwSMsECF-1ZhIvVLE98gjrVOPdXw', \n    user_agent='MoT-Group9',      \n)",
      "metadata": {
        "source_hash": "c619a3b8",
        "execution_start": 1704222602486,
        "execution_millis": 109,
        "deepnote_to_be_reexecuted": false,
        "cell_id": "02c848cf9e1e4084bd99b1ad3e632641",
        "deepnote_cell_type": "code"
      },
      "outputs": [],
      "execution_count": 2,
      "block_group": "e5fa40fe4be641a6ae54090dc65ab6b3"
    },
    {
      "cell_type": "code",
      "source": "# Enable rate limit handling\nreddit.read_only = True",
      "metadata": {
        "source_hash": "c763cedd",
        "execution_start": 1704222602574,
        "execution_millis": 93,
        "deepnote_to_be_reexecuted": false,
        "cell_id": "cb0aedc977724d6486661992dee47c00",
        "deepnote_cell_type": "code"
      },
      "outputs": [],
      "execution_count": 3,
      "block_group": "2c160b5fe36640508f0d0c0b63abcf78"
    },
    {
      "cell_type": "markdown",
      "source": "### Functions necessary to retrieve data from pre-selected sub-reddit posts",
      "metadata": {
        "formattedRanges": [],
        "cell_id": "544809e06b284606886e21f993ee8c68",
        "deepnote_cell_type": "text-cell-h3"
      },
      "block_group": "39be464a661f44258949ef702d481415"
    },
    {
      "cell_type": "markdown",
      "source": "### They have been edited since the first commit to extract less in order to be able to carry more links. ",
      "metadata": {
        "formattedRanges": [],
        "cell_id": "50ccc659bbed4ef7a863672bddb133ad",
        "deepnote_cell_type": "text-cell-h3"
      },
      "block_group": "1af9137fcd8d42738b95e16b59468b91"
    },
    {
      "cell_type": "code",
      "source": "#this funciton will determine the sentiment of selected posts within the selected subreddits\ndef get_sentiment(text):\n    analysis = TextBlob(text)\n    # Classify the sentiment as positive, negative, or neutral\n    if analysis.sentiment.polarity > 0:\n        return 'positive'\n    elif analysis.sentiment.polarity < 0:\n        return 'negative'\n    else:\n        return 'neutral'",
      "metadata": {
        "source_hash": "db4fbb0b",
        "execution_start": 1704222602575,
        "execution_millis": 92,
        "deepnote_to_be_reexecuted": false,
        "cell_id": "37cc34ff428a40ba9c7bdf30809e5c23",
        "deepnote_cell_type": "code"
      },
      "outputs": [],
      "execution_count": 4,
      "block_group": "00d6ab42a4264d81b57e1c2b005e0074"
    },
    {
      "cell_type": "code",
      "source": "def fetch_comments(submission, subreddit_name):\n    submission.comments.replace_more(limit=None)\n    comments_data = pd.DataFrame(columns=['subreddit', 'post_title','comment_body'])\n\n    for comment in submission.comments.list():\n        if isinstance(comment, praw.models.Comment) and comment.body != '[deleted]':\n            # Appending information about each comment to the DataFrame\n            comments_data = comments_data.append({\n                'subreddit': subreddit_name,\n                'post_title': submission.title,\n                'comment_body': comment.body,\n            }, ignore_index=True)\n\n    return comments_data",
      "metadata": {
        "source_hash": "6ffa269a",
        "execution_start": 1704222602588,
        "execution_millis": 78,
        "deepnote_to_be_reexecuted": false,
        "cell_id": "2f4084c512c647eeb8da3e1a83daaf2a",
        "deepnote_cell_type": "code"
      },
      "outputs": [],
      "execution_count": 5,
      "block_group": "a9a499ea79d044e6b09358af1464d4e2"
    },
    {
      "cell_type": "code",
      "source": "# Creating a function to fetch subreddit data - takes in subreddit name and list of post URLs provided below.\ndef fetch_subreddit_data(subreddit_name, post_urls):\n    columns = ['subreddit', 'post_title', 'comment_body']\n    comments_data = pd.DataFrame(columns=columns)\n\n    # Looping through the provided post URLs\n    for post_url in post_urls:\n        submission = reddit.submission(url=post_url)\n\n        # Appending information about the post to the DataFrame\n        comments_data = comments_data.append({\n            'subreddit': subreddit_name,\n            'post_title': submission.title,\n            'comment_body': submission.selftext,\n        }, ignore_index=True)\n\n        # Process comments and their replies\n        comments_data = comments_data.append(fetch_comments(submission, subreddit_name), ignore_index=True)\n\n    return comments_data",
      "metadata": {
        "source_hash": "38620794",
        "execution_start": 1704222602589,
        "execution_millis": 95,
        "deepnote_to_be_reexecuted": false,
        "cell_id": "deef63f3472b4a22b27b12981d4a25ae",
        "deepnote_cell_type": "code"
      },
      "outputs": [],
      "execution_count": 6,
      "block_group": "b8494bd23222423b874e9a638b1f558a"
    },
    {
      "cell_type": "code",
      "source": "#'https://www.reddit.com/r/singularity/comments/12983il/the_reason_i_dont_fear_artificial_intelligence/', 'https://www.reddit.com/r/singularity/comments/wnzsyz/why_everyones_afraid_of_ai/', 'https://www.reddit.com/r/singularity/comments/11i6m4j/what_scenarios_do_you_fear_the_most_in_the_age_of/', 'https://www.reddit.com/r/singularity/comments/x8io8i/why_does_everyone_want_to_fear_ai/', 'https://www.reddit.com/r/singularity/comments/12q02q1/is_anxiety_about_your_future_and_ai_destroying/', 'https://www.reddit.com/r/singularity/comments/11nyzj9/rapid_ai_progress_makes_me_feel_really_anxious/', 'https://www.reddit.com/r/singularity/comments/12doywh/ai_anxiety/', 'https://www.reddit.com/r/singularity/comments/16j8kyb/if_you_worry_about_humanity_you_should_be_more/', 'https://www.reddit.com/r/singularity/comments/11rjyrm/why_has_this_sub_been_filling_up_with_people_who/', 'https://www.reddit.com/r/singularity/comments/14le86c/what_is_everyone_so_scared_of/', 'https://www.reddit.com/r/singularity/comments/8mrnyj/how_frightened_should_we_be_of_ai/', 'https://www.reddit.com/r/singularity/comments/10oos73/im_scared_of_unemployment_in_a_world_ruled_by_ai/'",
      "metadata": {
        "source_hash": "52d9e8f9",
        "execution_start": 1704222602590,
        "execution_millis": 95,
        "deepnote_to_be_reexecuted": false,
        "cell_id": "1a279e27fbe94a449884c47119915993",
        "deepnote_cell_type": "code"
      },
      "outputs": [],
      "execution_count": 7,
      "block_group": "3537ef518eb04b13ab584cbd999e2c53"
    },
    {
      "cell_type": "markdown",
      "source": "### Applying the functions to extract data",
      "metadata": {
        "formattedRanges": [],
        "cell_id": "daff5d1e4a13422b88eb7b3e4d8a3951",
        "deepnote_cell_type": "text-cell-h3"
      },
      "block_group": "86d06fccc0e94a598a2b97ace446ec3d"
    },
    {
      "cell_type": "code",
      "source": "subreddit_names = ['singularity', 'Futurology', 'ArtificialInteligence','technology', 'AskReddit', 'privacy', 'RandomThoughts', 'AskEngineers','changemyview', 'Ecommerce', 'ChatGPT', 'YouShouldKnow',  'ArtistLounge', 'CasualConversation', 'Freelance', 'graphic_design', 'GenX', 'intj', 'ControlProblem','FinancialCareers','StableDiffusion', 'INTP'   ]\npost_urls_for_each_subreddit = {\n    'singularity': ['https://www.reddit.com/r/singularity/comments/132kgur/i_dont_fear_malicious_or_rogue_ai_i_fear_how_ai/'],\n    'Futurology': ['https://www.reddit.com/r/Futurology/comments/9z9g0j/why_do_we_fear_artificial_intelligence_andor/'],\n    'ArtificialInteligence': ['https://www.reddit.com/r/ArtificialInteligence/comments/17ddumf/what_is_expected_to_gain_from_an_ai_safety_summit/'], \n    'technology': ['https://www.reddit.com/r/technology/comments/15wnpav/police_in_england_installed_an_ai_camera_system/'], \n    'AskReddit': ['https://www.reddit.com/r/AskReddit/comments/135ixrr/how_scared_are_you_of_ai_replacing_your_career/'], \n    'privacy': ['https://www.reddit.com/r/privacy/comments/7itwrl/facial_recognition_for_public_surveillance_is/'], \n    'RandomThoughts': ['https://www.reddit.com/r/RandomThoughts/comments/125y0vu/ai_is_going_to_ruin_so_many_peoples_lives_so/'], \n    'AskEngineers': ['https://www.reddit.com/r/AskEngineers/comments/13xgz8z/whats_with_the_ai_fear/'], \n    'changemyview': ['https://www.reddit.com/r/changemyview/comments/84exk2/cmv_the_ai_scare_is_rooted_in_sensational_fear/'],\n    'Ecommerce': ['https://www.reddit.com/r/ecommerce/comments/13ojidl/be_honest_are_you_scared_of_ai_taking_over_your/'], \n    'ChatGPT': ['https://www.reddit.com/r/ChatGPT/comments/135z6jw/what_are_ai_developers_seeing_privately_that_they/'], \n    'YouShouldKnow': ['https://www.reddit.com/r/YouShouldKnow/comments/120m3f6/ysk_the_future_of_monitoring_how_large_language/'], \n    'ArtistLounge': ['https://www.reddit.com/r/ArtistLounge/comments/1701von/what_scares_me_the_most_about_ai_art_is_that_it/'], \n    'CasualConversation': ['https://www.reddit.com/r/CasualConversation/comments/121vk3k/my_parents_have_always_said_new_technology_scares/'], \n    'Freelance': ['https://www.reddit.com/r/freelance/comments/11wekfi/anxiety_around_ai/'], \n    'graphic_design': ['https://www.reddit.com/r/graphic_design/comments/wre0zb/am_i_the_only_one_scared_from_ai_replacing_his_job/'], \n    'GenX': ['https://www.reddit.com/r/GenX/comments/17fl2n1/anyone_else_low_key_terrified_of_ais_impact_on/'], \n    'intj': ['https://www.reddit.com/r/intj/comments/11mxwjy/is_the_future_of_ai_terrifying_to_anybody_else/'], \n    'ControlProblem': ['https://www.reddit.com/r/ControlProblem/comments/189vy8r/terrified_about_ai_and_agiasi/'], \n    'FinancialCareers':['https://www.reddit.com/r/FinancialCareers/comments/122c3qk/im_so_scared_of_ai/'], \n    'StableDiffusion': ['https://www.reddit.com/r/StableDiffusion/comments/16q0hun/seriously_whats_with_the_rampant_aiphobia_that/'], \n    'INTP': ['https://www.reddit.com/r/INTP/comments/12xpv9e/im_honestly_a_little_baffled_as_to_why_theres/']\n}\n\ngithub_linked_folder = '/work/GitHub_ML_Deepnote/Machine Learning/1. Extracted Reddit Data/'",
      "metadata": {
        "source_hash": "833ae828",
        "execution_start": 1704225127550,
        "execution_millis": 7,
        "deepnote_to_be_reexecuted": false,
        "cell_id": "434d38b4c1584643968db31ade27be8d",
        "deepnote_cell_type": "code"
      },
      "outputs": [],
      "execution_count": 17,
      "block_group": "154609c02b4f425d818d14eea4cdc871"
    },
    {
      "cell_type": "markdown",
      "source": "### Intervention",
      "metadata": {
        "formattedRanges": [],
        "cell_id": "6ae1d006bc844928998d3ad5f5353b92",
        "deepnote_cell_type": "text-cell-h3"
      },
      "block_group": "21b0b72ea6784b1ebf5218ae0fe0c65a"
    },
    {
      "cell_type": "code",
      "source": "# Function to make a Reddit API request\ndef make_reddit_api_request(subreddit_name):\n    global query_count, last_query_time\n\n    # Calculate the time elapsed since the last query\n    time_elapsed = time.time() - last_query_time\n\n    # Check if we need to add a delay to stay within the rate limit\n    if query_count >= queries_per_minute and time_elapsed < 60:\n        # Sleep for the remaining time in the minute\n        time.sleep(60 - time_elapsed)\n        # Reset query count and last query time\n        query_count = 0\n        last_query_time = time.time()\n\n    # Make the API request here\n    comments_data = fetch_subreddit_data(subreddit_name, post_urls_for_each_subreddit[subreddit_name])\n\n    # Specify the path for saving CSV files within the GitHub-linked folder\n    csv_file_path = f'{github_linked_folder}{subreddit_name}_comments_data.csv'\n\n    # Save the CSV file\n    comments_data.to_csv(csv_file_path, index=False, encoding='utf-8')\n\n    # Update query count and last query time\n    query_count += 1\n    last_query_time = time.time()\n",
      "metadata": {
        "source_hash": "c5faad27",
        "execution_start": 1704225130636,
        "execution_millis": 12,
        "deepnote_to_be_reexecuted": false,
        "cell_id": "cf75e8da0db34ba79ea21c03534d195f",
        "deepnote_cell_type": "code"
      },
      "outputs": [],
      "execution_count": 18,
      "block_group": "bbfe6b9217af4be7a6e2062d9d909df6"
    },
    {
      "cell_type": "code",
      "source": "# Initialising variables to track query count and last query time\nquery_count = 0\nlast_query_time = time.time()\n\n# Defining the rate limit\nqueries_per_minute = 100\n\n#Application:\nfor subreddit_name in subreddit_names:\n    make_reddit_api_request(subreddit_name)\n\n# Creating a csv file containing data for all subreddits\nall_dataframes = []\n\nfor subreddit_name in subreddit_names:\n    comments_data = pd.read_csv(f'{github_linked_folder}{subreddit_name}_comments_data.csv')\n    all_dataframes.append(comments_data)\n\n# Concatenating all DataFrames into one\nall_comments_data = pd.concat(all_dataframes, ignore_index=True)",
      "metadata": {
        "source_hash": "1a792b56",
        "execution_start": 1704225132916,
        "execution_millis": 465115,
        "deepnote_to_be_reexecuted": false,
        "cell_id": "a7f8b48bd4c240b3844ac0bae1d3328d",
        "deepnote_cell_type": "code"
      },
      "outputs": [
        {
          "output_type": "error",
          "ename": "TooManyRequests",
          "evalue": "received 429 HTTP response",
          "traceback": [
            "\u001b[0;31m---------------------------------------------------------------------------\u001b[0m",
            "\u001b[0;31mTooManyRequests\u001b[0m                           Traceback (most recent call last)",
            "Cell \u001b[0;32mIn [16], line 10\u001b[0m\n\u001b[1;32m      8\u001b[0m \u001b[38;5;66;03m#Application:\u001b[39;00m\n\u001b[1;32m      9\u001b[0m \u001b[38;5;28;01mfor\u001b[39;00m subreddit_name \u001b[38;5;129;01min\u001b[39;00m subreddit_names:\n\u001b[0;32m---> 10\u001b[0m     \u001b[43mmake_reddit_api_request\u001b[49m\u001b[43m(\u001b[49m\u001b[43msubreddit_name\u001b[49m\u001b[43m)\u001b[49m\n\u001b[1;32m     12\u001b[0m \u001b[38;5;66;03m# Creating a csv file containing data for all subreddits\u001b[39;00m\n\u001b[1;32m     13\u001b[0m all_dataframes \u001b[38;5;241m=\u001b[39m []\n",
            "Cell \u001b[0;32mIn [15], line 17\u001b[0m, in \u001b[0;36mmake_reddit_api_request\u001b[0;34m(subreddit_name)\u001b[0m\n\u001b[1;32m     14\u001b[0m     last_query_time \u001b[38;5;241m=\u001b[39m time\u001b[38;5;241m.\u001b[39mtime()\n\u001b[1;32m     16\u001b[0m \u001b[38;5;66;03m# Make the API request here\u001b[39;00m\n\u001b[0;32m---> 17\u001b[0m comments_data \u001b[38;5;241m=\u001b[39m \u001b[43mfetch_subreddit_data\u001b[49m\u001b[43m(\u001b[49m\u001b[43msubreddit_name\u001b[49m\u001b[43m,\u001b[49m\u001b[43m \u001b[49m\u001b[43mpost_urls_for_each_subreddit\u001b[49m\u001b[43m[\u001b[49m\u001b[43msubreddit_name\u001b[49m\u001b[43m]\u001b[49m\u001b[43m)\u001b[49m\n\u001b[1;32m     19\u001b[0m \u001b[38;5;66;03m# Specify the path for saving CSV files within the GitHub-linked folder\u001b[39;00m\n\u001b[1;32m     20\u001b[0m csv_file_path \u001b[38;5;241m=\u001b[39m \u001b[38;5;124mf\u001b[39m\u001b[38;5;124m'\u001b[39m\u001b[38;5;132;01m{\u001b[39;00mgithub_linked_folder\u001b[38;5;132;01m}\u001b[39;00m\u001b[38;5;132;01m{\u001b[39;00msubreddit_name\u001b[38;5;132;01m}\u001b[39;00m\u001b[38;5;124m_comments_data.csv\u001b[39m\u001b[38;5;124m'\u001b[39m\n",
            "Cell \u001b[0;32mIn [6], line 24\u001b[0m, in \u001b[0;36mfetch_subreddit_data\u001b[0;34m(subreddit_name, post_urls)\u001b[0m\n\u001b[1;32m     11\u001b[0m     comments_data \u001b[38;5;241m=\u001b[39m comments_data\u001b[38;5;241m.\u001b[39mappend({\n\u001b[1;32m     12\u001b[0m         \u001b[38;5;124m'\u001b[39m\u001b[38;5;124msubreddit\u001b[39m\u001b[38;5;124m'\u001b[39m: subreddit_name,\n\u001b[1;32m     13\u001b[0m         \u001b[38;5;124m'\u001b[39m\u001b[38;5;124mpost_title\u001b[39m\u001b[38;5;124m'\u001b[39m: submission\u001b[38;5;241m.\u001b[39mtitle,\n\u001b[0;32m   (...)\u001b[0m\n\u001b[1;32m     20\u001b[0m         \u001b[38;5;66;03m#'comment_created_utc': pd.to_datetime(submission.created_utc, unit='s')\u001b[39;00m\n\u001b[1;32m     21\u001b[0m     }, ignore_index\u001b[38;5;241m=\u001b[39m\u001b[38;5;28;01mTrue\u001b[39;00m)\n\u001b[1;32m     23\u001b[0m     \u001b[38;5;66;03m# Process comments and their replies\u001b[39;00m\n\u001b[0;32m---> 24\u001b[0m     comments_data \u001b[38;5;241m=\u001b[39m comments_data\u001b[38;5;241m.\u001b[39mappend(\u001b[43mfetch_comments\u001b[49m\u001b[43m(\u001b[49m\u001b[43msubmission\u001b[49m\u001b[43m,\u001b[49m\u001b[43m \u001b[49m\u001b[43msubreddit_name\u001b[49m\u001b[43m)\u001b[49m, ignore_index\u001b[38;5;241m=\u001b[39m\u001b[38;5;28;01mTrue\u001b[39;00m)\n\u001b[1;32m     26\u001b[0m \u001b[38;5;28;01mreturn\u001b[39;00m comments_data\n",
            "Cell \u001b[0;32mIn [5], line 2\u001b[0m, in \u001b[0;36mfetch_comments\u001b[0;34m(submission, subreddit_name)\u001b[0m\n\u001b[1;32m      1\u001b[0m \u001b[38;5;28;01mdef\u001b[39;00m \u001b[38;5;21mfetch_comments\u001b[39m(submission, subreddit_name):\n\u001b[0;32m----> 2\u001b[0m     \u001b[43msubmission\u001b[49m\u001b[38;5;241;43m.\u001b[39;49m\u001b[43mcomments\u001b[49m\u001b[38;5;241;43m.\u001b[39;49m\u001b[43mreplace_more\u001b[49m\u001b[43m(\u001b[49m\u001b[43mlimit\u001b[49m\u001b[38;5;241;43m=\u001b[39;49m\u001b[38;5;28;43;01mNone\u001b[39;49;00m\u001b[43m)\u001b[49m\n\u001b[1;32m      3\u001b[0m     comments_data \u001b[38;5;241m=\u001b[39m pd\u001b[38;5;241m.\u001b[39mDataFrame(columns\u001b[38;5;241m=\u001b[39m[\u001b[38;5;124m'\u001b[39m\u001b[38;5;124msubreddit\u001b[39m\u001b[38;5;124m'\u001b[39m, \u001b[38;5;124m'\u001b[39m\u001b[38;5;124mpost_title\u001b[39m\u001b[38;5;124m'\u001b[39m,\u001b[38;5;124m'\u001b[39m\u001b[38;5;124mcomment_body\u001b[39m\u001b[38;5;124m'\u001b[39m])\n\u001b[1;32m      5\u001b[0m     \u001b[38;5;28;01mfor\u001b[39;00m comment \u001b[38;5;129;01min\u001b[39;00m submission\u001b[38;5;241m.\u001b[39mcomments\u001b[38;5;241m.\u001b[39mlist():\n",
            "File \u001b[0;32m~/venv/lib/python3.9/site-packages/praw/util/deprecate_args.py:43\u001b[0m, in \u001b[0;36m_deprecate_args.<locals>.wrapper.<locals>.wrapped\u001b[0;34m(*args, **kwargs)\u001b[0m\n\u001b[1;32m     36\u001b[0m     arg_string \u001b[38;5;241m=\u001b[39m _generate_arg_string(_old_args[: \u001b[38;5;28mlen\u001b[39m(args)])\n\u001b[1;32m     37\u001b[0m     warn(\n\u001b[1;32m     38\u001b[0m         \u001b[38;5;124mf\u001b[39m\u001b[38;5;124m\"\u001b[39m\u001b[38;5;124mPositional arguments for \u001b[39m\u001b[38;5;132;01m{\u001b[39;00mfunc\u001b[38;5;241m.\u001b[39m\u001b[38;5;18m__qualname__\u001b[39m\u001b[38;5;132;01m!r}\u001b[39;00m\u001b[38;5;124m will no longer be\u001b[39m\u001b[38;5;124m\"\u001b[39m\n\u001b[1;32m     39\u001b[0m         \u001b[38;5;124mf\u001b[39m\u001b[38;5;124m\"\u001b[39m\u001b[38;5;124m supported in PRAW 8.\u001b[39m\u001b[38;5;130;01m\\n\u001b[39;00m\u001b[38;5;124mCall this function with \u001b[39m\u001b[38;5;132;01m{\u001b[39;00marg_string\u001b[38;5;132;01m}\u001b[39;00m\u001b[38;5;124m.\u001b[39m\u001b[38;5;124m\"\u001b[39m,\n\u001b[1;32m     40\u001b[0m         \u001b[38;5;167;01mDeprecationWarning\u001b[39;00m,\n\u001b[1;32m     41\u001b[0m         stacklevel\u001b[38;5;241m=\u001b[39m\u001b[38;5;241m2\u001b[39m,\n\u001b[1;32m     42\u001b[0m     )\n\u001b[0;32m---> 43\u001b[0m \u001b[38;5;28;01mreturn\u001b[39;00m \u001b[43mfunc\u001b[49m\u001b[43m(\u001b[49m\u001b[38;5;241;43m*\u001b[39;49m\u001b[38;5;241;43m*\u001b[39;49m\u001b[38;5;28;43mdict\u001b[39;49m\u001b[43m(\u001b[49m\u001b[38;5;28;43mzip\u001b[39;49m\u001b[43m(\u001b[49m\u001b[43m_old_args\u001b[49m\u001b[43m,\u001b[49m\u001b[43m \u001b[49m\u001b[43margs\u001b[49m\u001b[43m)\u001b[49m\u001b[43m)\u001b[49m\u001b[43m,\u001b[49m\u001b[43m \u001b[49m\u001b[38;5;241;43m*\u001b[39;49m\u001b[38;5;241;43m*\u001b[39;49m\u001b[43mkwargs\u001b[49m\u001b[43m)\u001b[49m\n",
            "File \u001b[0;32m~/venv/lib/python3.9/site-packages/praw/models/comment_forest.py:183\u001b[0m, in \u001b[0;36mCommentForest.replace_more\u001b[0;34m(self, limit, threshold)\u001b[0m\n\u001b[1;32m    180\u001b[0m     item\u001b[38;5;241m.\u001b[39m_remove_from\u001b[38;5;241m.\u001b[39mremove(item)\n\u001b[1;32m    181\u001b[0m     \u001b[38;5;28;01mcontinue\u001b[39;00m\n\u001b[0;32m--> 183\u001b[0m new_comments \u001b[38;5;241m=\u001b[39m \u001b[43mitem\u001b[49m\u001b[38;5;241;43m.\u001b[39;49m\u001b[43mcomments\u001b[49m\u001b[43m(\u001b[49m\u001b[43mupdate\u001b[49m\u001b[38;5;241;43m=\u001b[39;49m\u001b[38;5;28;43;01mFalse\u001b[39;49;00m\u001b[43m)\u001b[49m\n\u001b[1;32m    184\u001b[0m \u001b[38;5;28;01mif\u001b[39;00m remaining \u001b[38;5;129;01mis\u001b[39;00m \u001b[38;5;129;01mnot\u001b[39;00m \u001b[38;5;28;01mNone\u001b[39;00m:\n\u001b[1;32m    185\u001b[0m     remaining \u001b[38;5;241m-\u001b[39m\u001b[38;5;241m=\u001b[39m \u001b[38;5;241m1\u001b[39m\n",
            "File \u001b[0;32m~/venv/lib/python3.9/site-packages/praw/util/deprecate_args.py:43\u001b[0m, in \u001b[0;36m_deprecate_args.<locals>.wrapper.<locals>.wrapped\u001b[0;34m(*args, **kwargs)\u001b[0m\n\u001b[1;32m     36\u001b[0m     arg_string \u001b[38;5;241m=\u001b[39m _generate_arg_string(_old_args[: \u001b[38;5;28mlen\u001b[39m(args)])\n\u001b[1;32m     37\u001b[0m     warn(\n\u001b[1;32m     38\u001b[0m         \u001b[38;5;124mf\u001b[39m\u001b[38;5;124m\"\u001b[39m\u001b[38;5;124mPositional arguments for \u001b[39m\u001b[38;5;132;01m{\u001b[39;00mfunc\u001b[38;5;241m.\u001b[39m\u001b[38;5;18m__qualname__\u001b[39m\u001b[38;5;132;01m!r}\u001b[39;00m\u001b[38;5;124m will no longer be\u001b[39m\u001b[38;5;124m\"\u001b[39m\n\u001b[1;32m     39\u001b[0m         \u001b[38;5;124mf\u001b[39m\u001b[38;5;124m\"\u001b[39m\u001b[38;5;124m supported in PRAW 8.\u001b[39m\u001b[38;5;130;01m\\n\u001b[39;00m\u001b[38;5;124mCall this function with \u001b[39m\u001b[38;5;132;01m{\u001b[39;00marg_string\u001b[38;5;132;01m}\u001b[39;00m\u001b[38;5;124m.\u001b[39m\u001b[38;5;124m\"\u001b[39m,\n\u001b[1;32m     40\u001b[0m         \u001b[38;5;167;01mDeprecationWarning\u001b[39;00m,\n\u001b[1;32m     41\u001b[0m         stacklevel\u001b[38;5;241m=\u001b[39m\u001b[38;5;241m2\u001b[39m,\n\u001b[1;32m     42\u001b[0m     )\n\u001b[0;32m---> 43\u001b[0m \u001b[38;5;28;01mreturn\u001b[39;00m \u001b[43mfunc\u001b[49m\u001b[43m(\u001b[49m\u001b[38;5;241;43m*\u001b[39;49m\u001b[38;5;241;43m*\u001b[39;49m\u001b[38;5;28;43mdict\u001b[39;49m\u001b[43m(\u001b[49m\u001b[38;5;28;43mzip\u001b[39;49m\u001b[43m(\u001b[49m\u001b[43m_old_args\u001b[49m\u001b[43m,\u001b[49m\u001b[43m \u001b[49m\u001b[43margs\u001b[49m\u001b[43m)\u001b[49m\u001b[43m)\u001b[49m\u001b[43m,\u001b[49m\u001b[43m \u001b[49m\u001b[38;5;241;43m*\u001b[39;49m\u001b[38;5;241;43m*\u001b[39;49m\u001b[43mkwargs\u001b[49m\u001b[43m)\u001b[49m\n",
            "File \u001b[0;32m~/venv/lib/python3.9/site-packages/praw/models/reddit/more.py:69\u001b[0m, in \u001b[0;36mMoreComments.comments\u001b[0;34m(self, update)\u001b[0m\n\u001b[1;32m     67\u001b[0m \u001b[38;5;28;01mif\u001b[39;00m \u001b[38;5;28mself\u001b[39m\u001b[38;5;241m.\u001b[39m_comments \u001b[38;5;129;01mis\u001b[39;00m \u001b[38;5;28;01mNone\u001b[39;00m:\n\u001b[1;32m     68\u001b[0m     \u001b[38;5;28;01mif\u001b[39;00m \u001b[38;5;28mself\u001b[39m\u001b[38;5;241m.\u001b[39mcount \u001b[38;5;241m==\u001b[39m \u001b[38;5;241m0\u001b[39m:  \u001b[38;5;66;03m# Handle \"continue this thread\"\u001b[39;00m\n\u001b[0;32m---> 69\u001b[0m         \u001b[38;5;28;01mreturn\u001b[39;00m \u001b[38;5;28;43mself\u001b[39;49m\u001b[38;5;241;43m.\u001b[39;49m\u001b[43m_continue_comments\u001b[49m\u001b[43m(\u001b[49m\u001b[43mupdate\u001b[49m\u001b[43m)\u001b[49m\n\u001b[1;32m     70\u001b[0m     \u001b[38;5;28;01massert\u001b[39;00m \u001b[38;5;28mself\u001b[39m\u001b[38;5;241m.\u001b[39mchildren, \u001b[38;5;124m\"\u001b[39m\u001b[38;5;124mPlease file a bug report with PRAW.\u001b[39m\u001b[38;5;124m\"\u001b[39m\n\u001b[1;32m     71\u001b[0m     data \u001b[38;5;241m=\u001b[39m {\n\u001b[1;32m     72\u001b[0m         \u001b[38;5;124m\"\u001b[39m\u001b[38;5;124mchildren\u001b[39m\u001b[38;5;124m\"\u001b[39m: \u001b[38;5;124m\"\u001b[39m\u001b[38;5;124m,\u001b[39m\u001b[38;5;124m\"\u001b[39m\u001b[38;5;241m.\u001b[39mjoin(\u001b[38;5;28mself\u001b[39m\u001b[38;5;241m.\u001b[39mchildren),\n\u001b[1;32m     73\u001b[0m         \u001b[38;5;124m\"\u001b[39m\u001b[38;5;124mlink_id\u001b[39m\u001b[38;5;124m\"\u001b[39m: \u001b[38;5;28mself\u001b[39m\u001b[38;5;241m.\u001b[39msubmission\u001b[38;5;241m.\u001b[39mfullname,\n\u001b[1;32m     74\u001b[0m         \u001b[38;5;124m\"\u001b[39m\u001b[38;5;124msort\u001b[39m\u001b[38;5;124m\"\u001b[39m: \u001b[38;5;28mself\u001b[39m\u001b[38;5;241m.\u001b[39msubmission\u001b[38;5;241m.\u001b[39mcomment_sort,\n\u001b[1;32m     75\u001b[0m     }\n",
            "File \u001b[0;32m~/venv/lib/python3.9/site-packages/praw/models/reddit/more.py:45\u001b[0m, in \u001b[0;36mMoreComments._continue_comments\u001b[0;34m(self, update)\u001b[0m\n\u001b[1;32m     43\u001b[0m \u001b[38;5;28;01mdef\u001b[39;00m \u001b[38;5;21m_continue_comments\u001b[39m(\u001b[38;5;28mself\u001b[39m, update):\n\u001b[1;32m     44\u001b[0m     \u001b[38;5;28;01massert\u001b[39;00m \u001b[38;5;129;01mnot\u001b[39;00m \u001b[38;5;28mself\u001b[39m\u001b[38;5;241m.\u001b[39mchildren, \u001b[38;5;124m\"\u001b[39m\u001b[38;5;124mPlease file a bug report with PRAW.\u001b[39m\u001b[38;5;124m\"\u001b[39m\n\u001b[0;32m---> 45\u001b[0m     parent \u001b[38;5;241m=\u001b[39m \u001b[38;5;28;43mself\u001b[39;49m\u001b[38;5;241;43m.\u001b[39;49m\u001b[43m_load_comment\u001b[49m\u001b[43m(\u001b[49m\u001b[38;5;28;43mself\u001b[39;49m\u001b[38;5;241;43m.\u001b[39;49m\u001b[43mparent_id\u001b[49m\u001b[38;5;241;43m.\u001b[39;49m\u001b[43msplit\u001b[49m\u001b[43m(\u001b[49m\u001b[38;5;124;43m\"\u001b[39;49m\u001b[38;5;124;43m_\u001b[39;49m\u001b[38;5;124;43m\"\u001b[39;49m\u001b[43m,\u001b[49m\u001b[43m \u001b[49m\u001b[38;5;241;43m1\u001b[39;49m\u001b[43m)\u001b[49m\u001b[43m[\u001b[49m\u001b[38;5;241;43m1\u001b[39;49m\u001b[43m]\u001b[49m\u001b[43m)\u001b[49m\n\u001b[1;32m     46\u001b[0m     \u001b[38;5;28mself\u001b[39m\u001b[38;5;241m.\u001b[39m_comments \u001b[38;5;241m=\u001b[39m parent\u001b[38;5;241m.\u001b[39mreplies\n\u001b[1;32m     47\u001b[0m     \u001b[38;5;28;01mif\u001b[39;00m update:\n",
            "File \u001b[0;32m~/venv/lib/python3.9/site-packages/praw/models/reddit/more.py:54\u001b[0m, in \u001b[0;36mMoreComments._load_comment\u001b[0;34m(self, comment_id)\u001b[0m\n\u001b[1;32m     52\u001b[0m \u001b[38;5;28;01mdef\u001b[39;00m \u001b[38;5;21m_load_comment\u001b[39m(\u001b[38;5;28mself\u001b[39m, comment_id):\n\u001b[1;32m     53\u001b[0m     path \u001b[38;5;241m=\u001b[39m \u001b[38;5;124mf\u001b[39m\u001b[38;5;124m\"\u001b[39m\u001b[38;5;132;01m{\u001b[39;00mAPI_PATH[\u001b[38;5;124m'\u001b[39m\u001b[38;5;124msubmission\u001b[39m\u001b[38;5;124m'\u001b[39m]\u001b[38;5;241m.\u001b[39mformat(\u001b[38;5;28mid\u001b[39m\u001b[38;5;241m=\u001b[39m\u001b[38;5;28mself\u001b[39m\u001b[38;5;241m.\u001b[39msubmission\u001b[38;5;241m.\u001b[39mid)\u001b[38;5;132;01m}\u001b[39;00m\u001b[38;5;124m_/\u001b[39m\u001b[38;5;132;01m{\u001b[39;00mcomment_id\u001b[38;5;132;01m}\u001b[39;00m\u001b[38;5;124m\"\u001b[39m\n\u001b[0;32m---> 54\u001b[0m     _, comments \u001b[38;5;241m=\u001b[39m \u001b[38;5;28;43mself\u001b[39;49m\u001b[38;5;241;43m.\u001b[39;49m\u001b[43m_reddit\u001b[49m\u001b[38;5;241;43m.\u001b[39;49m\u001b[43mget\u001b[49m\u001b[43m(\u001b[49m\n\u001b[1;32m     55\u001b[0m \u001b[43m        \u001b[49m\u001b[43mpath\u001b[49m\u001b[43m,\u001b[49m\n\u001b[1;32m     56\u001b[0m \u001b[43m        \u001b[49m\u001b[43mparams\u001b[49m\u001b[38;5;241;43m=\u001b[39;49m\u001b[43m{\u001b[49m\n\u001b[1;32m     57\u001b[0m \u001b[43m            \u001b[49m\u001b[38;5;124;43m\"\u001b[39;49m\u001b[38;5;124;43mlimit\u001b[39;49m\u001b[38;5;124;43m\"\u001b[39;49m\u001b[43m:\u001b[49m\u001b[43m \u001b[49m\u001b[38;5;28;43mself\u001b[39;49m\u001b[38;5;241;43m.\u001b[39;49m\u001b[43msubmission\u001b[49m\u001b[38;5;241;43m.\u001b[39;49m\u001b[43mcomment_limit\u001b[49m\u001b[43m,\u001b[49m\n\u001b[1;32m     58\u001b[0m \u001b[43m            \u001b[49m\u001b[38;5;124;43m\"\u001b[39;49m\u001b[38;5;124;43msort\u001b[39;49m\u001b[38;5;124;43m\"\u001b[39;49m\u001b[43m:\u001b[49m\u001b[43m \u001b[49m\u001b[38;5;28;43mself\u001b[39;49m\u001b[38;5;241;43m.\u001b[39;49m\u001b[43msubmission\u001b[49m\u001b[38;5;241;43m.\u001b[39;49m\u001b[43mcomment_sort\u001b[49m\u001b[43m,\u001b[49m\n\u001b[1;32m     59\u001b[0m \u001b[43m        \u001b[49m\u001b[43m}\u001b[49m\u001b[43m,\u001b[49m\n\u001b[1;32m     60\u001b[0m \u001b[43m    \u001b[49m\u001b[43m)\u001b[49m\n\u001b[1;32m     61\u001b[0m     \u001b[38;5;28;01massert\u001b[39;00m \u001b[38;5;28mlen\u001b[39m(comments\u001b[38;5;241m.\u001b[39mchildren) \u001b[38;5;241m==\u001b[39m \u001b[38;5;241m1\u001b[39m, \u001b[38;5;124m\"\u001b[39m\u001b[38;5;124mPlease file a bug report with PRAW.\u001b[39m\u001b[38;5;124m\"\u001b[39m\n\u001b[1;32m     62\u001b[0m     \u001b[38;5;28;01mreturn\u001b[39;00m comments\u001b[38;5;241m.\u001b[39mchildren[\u001b[38;5;241m0\u001b[39m]\n",
            "File \u001b[0;32m~/venv/lib/python3.9/site-packages/praw/util/deprecate_args.py:43\u001b[0m, in \u001b[0;36m_deprecate_args.<locals>.wrapper.<locals>.wrapped\u001b[0;34m(*args, **kwargs)\u001b[0m\n\u001b[1;32m     36\u001b[0m     arg_string \u001b[38;5;241m=\u001b[39m _generate_arg_string(_old_args[: \u001b[38;5;28mlen\u001b[39m(args)])\n\u001b[1;32m     37\u001b[0m     warn(\n\u001b[1;32m     38\u001b[0m         \u001b[38;5;124mf\u001b[39m\u001b[38;5;124m\"\u001b[39m\u001b[38;5;124mPositional arguments for \u001b[39m\u001b[38;5;132;01m{\u001b[39;00mfunc\u001b[38;5;241m.\u001b[39m\u001b[38;5;18m__qualname__\u001b[39m\u001b[38;5;132;01m!r}\u001b[39;00m\u001b[38;5;124m will no longer be\u001b[39m\u001b[38;5;124m\"\u001b[39m\n\u001b[1;32m     39\u001b[0m         \u001b[38;5;124mf\u001b[39m\u001b[38;5;124m\"\u001b[39m\u001b[38;5;124m supported in PRAW 8.\u001b[39m\u001b[38;5;130;01m\\n\u001b[39;00m\u001b[38;5;124mCall this function with \u001b[39m\u001b[38;5;132;01m{\u001b[39;00marg_string\u001b[38;5;132;01m}\u001b[39;00m\u001b[38;5;124m.\u001b[39m\u001b[38;5;124m\"\u001b[39m,\n\u001b[1;32m     40\u001b[0m         \u001b[38;5;167;01mDeprecationWarning\u001b[39;00m,\n\u001b[1;32m     41\u001b[0m         stacklevel\u001b[38;5;241m=\u001b[39m\u001b[38;5;241m2\u001b[39m,\n\u001b[1;32m     42\u001b[0m     )\n\u001b[0;32m---> 43\u001b[0m \u001b[38;5;28;01mreturn\u001b[39;00m \u001b[43mfunc\u001b[49m\u001b[43m(\u001b[49m\u001b[38;5;241;43m*\u001b[39;49m\u001b[38;5;241;43m*\u001b[39;49m\u001b[38;5;28;43mdict\u001b[39;49m\u001b[43m(\u001b[49m\u001b[38;5;28;43mzip\u001b[39;49m\u001b[43m(\u001b[49m\u001b[43m_old_args\u001b[49m\u001b[43m,\u001b[49m\u001b[43m \u001b[49m\u001b[43margs\u001b[49m\u001b[43m)\u001b[49m\u001b[43m)\u001b[49m\u001b[43m,\u001b[49m\u001b[43m \u001b[49m\u001b[38;5;241;43m*\u001b[39;49m\u001b[38;5;241;43m*\u001b[39;49m\u001b[43mkwargs\u001b[49m\u001b[43m)\u001b[49m\n",
            "File \u001b[0;32m~/venv/lib/python3.9/site-packages/praw/reddit.py:712\u001b[0m, in \u001b[0;36mReddit.get\u001b[0;34m(self, path, params)\u001b[0m\n\u001b[1;32m    699\u001b[0m \u001b[38;5;129m@_deprecate_args\u001b[39m(\u001b[38;5;124m\"\u001b[39m\u001b[38;5;124mpath\u001b[39m\u001b[38;5;124m\"\u001b[39m, \u001b[38;5;124m\"\u001b[39m\u001b[38;5;124mparams\u001b[39m\u001b[38;5;124m\"\u001b[39m)\n\u001b[1;32m    700\u001b[0m \u001b[38;5;28;01mdef\u001b[39;00m \u001b[38;5;21mget\u001b[39m(\n\u001b[1;32m    701\u001b[0m     \u001b[38;5;28mself\u001b[39m,\n\u001b[0;32m   (...)\u001b[0m\n\u001b[1;32m    704\u001b[0m     params: Optional[Union[\u001b[38;5;28mstr\u001b[39m, Dict[\u001b[38;5;28mstr\u001b[39m, Union[\u001b[38;5;28mstr\u001b[39m, \u001b[38;5;28mint\u001b[39m]]]] \u001b[38;5;241m=\u001b[39m \u001b[38;5;28;01mNone\u001b[39;00m,\n\u001b[1;32m    705\u001b[0m ):\n\u001b[1;32m    706\u001b[0m     \u001b[38;5;124;03m\"\"\"Return parsed objects returned from a GET request to ``path``.\u001b[39;00m\n\u001b[1;32m    707\u001b[0m \n\u001b[1;32m    708\u001b[0m \u001b[38;5;124;03m    :param path: The path to fetch.\u001b[39;00m\n\u001b[1;32m    709\u001b[0m \u001b[38;5;124;03m    :param params: The query parameters to add to the request (default: ``None``).\u001b[39;00m\n\u001b[1;32m    710\u001b[0m \n\u001b[1;32m    711\u001b[0m \u001b[38;5;124;03m    \"\"\"\u001b[39;00m\n\u001b[0;32m--> 712\u001b[0m     \u001b[38;5;28;01mreturn\u001b[39;00m \u001b[38;5;28;43mself\u001b[39;49m\u001b[38;5;241;43m.\u001b[39;49m\u001b[43m_objectify_request\u001b[49m\u001b[43m(\u001b[49m\u001b[43mmethod\u001b[49m\u001b[38;5;241;43m=\u001b[39;49m\u001b[38;5;124;43m\"\u001b[39;49m\u001b[38;5;124;43mGET\u001b[39;49m\u001b[38;5;124;43m\"\u001b[39;49m\u001b[43m,\u001b[49m\u001b[43m \u001b[49m\u001b[43mparams\u001b[49m\u001b[38;5;241;43m=\u001b[39;49m\u001b[43mparams\u001b[49m\u001b[43m,\u001b[49m\u001b[43m \u001b[49m\u001b[43mpath\u001b[49m\u001b[38;5;241;43m=\u001b[39;49m\u001b[43mpath\u001b[49m\u001b[43m)\u001b[49m\n",
            "File \u001b[0;32m~/venv/lib/python3.9/site-packages/praw/reddit.py:517\u001b[0m, in \u001b[0;36mReddit._objectify_request\u001b[0;34m(self, data, files, json, method, params, path)\u001b[0m\n\u001b[1;32m    491\u001b[0m \u001b[38;5;28;01mdef\u001b[39;00m \u001b[38;5;21m_objectify_request\u001b[39m(\n\u001b[1;32m    492\u001b[0m     \u001b[38;5;28mself\u001b[39m,\n\u001b[1;32m    493\u001b[0m     \u001b[38;5;241m*\u001b[39m,\n\u001b[0;32m   (...)\u001b[0m\n\u001b[1;32m    499\u001b[0m     path: \u001b[38;5;28mstr\u001b[39m \u001b[38;5;241m=\u001b[39m \u001b[38;5;124m\"\u001b[39m\u001b[38;5;124m\"\u001b[39m,\n\u001b[1;32m    500\u001b[0m ) \u001b[38;5;241m-\u001b[39m\u001b[38;5;241m>\u001b[39m Any:\n\u001b[1;32m    501\u001b[0m     \u001b[38;5;124;03m\"\"\"Run a request through the ``Objector``.\u001b[39;00m\n\u001b[1;32m    502\u001b[0m \n\u001b[1;32m    503\u001b[0m \u001b[38;5;124;03m    :param data: Dictionary, bytes, or file-like object to send in the body of the\u001b[39;00m\n\u001b[0;32m   (...)\u001b[0m\n\u001b[1;32m    514\u001b[0m \n\u001b[1;32m    515\u001b[0m \u001b[38;5;124;03m    \"\"\"\u001b[39;00m\n\u001b[1;32m    516\u001b[0m     \u001b[38;5;28;01mreturn\u001b[39;00m \u001b[38;5;28mself\u001b[39m\u001b[38;5;241m.\u001b[39m_objector\u001b[38;5;241m.\u001b[39mobjectify(\n\u001b[0;32m--> 517\u001b[0m         \u001b[38;5;28;43mself\u001b[39;49m\u001b[38;5;241;43m.\u001b[39;49m\u001b[43mrequest\u001b[49m\u001b[43m(\u001b[49m\n\u001b[1;32m    518\u001b[0m \u001b[43m            \u001b[49m\u001b[43mdata\u001b[49m\u001b[38;5;241;43m=\u001b[39;49m\u001b[43mdata\u001b[49m\u001b[43m,\u001b[49m\n\u001b[1;32m    519\u001b[0m \u001b[43m            \u001b[49m\u001b[43mfiles\u001b[49m\u001b[38;5;241;43m=\u001b[39;49m\u001b[43mfiles\u001b[49m\u001b[43m,\u001b[49m\n\u001b[1;32m    520\u001b[0m \u001b[43m            \u001b[49m\u001b[43mjson\u001b[49m\u001b[38;5;241;43m=\u001b[39;49m\u001b[43mjson\u001b[49m\u001b[43m,\u001b[49m\n\u001b[1;32m    521\u001b[0m \u001b[43m            \u001b[49m\u001b[43mmethod\u001b[49m\u001b[38;5;241;43m=\u001b[39;49m\u001b[43mmethod\u001b[49m\u001b[43m,\u001b[49m\n\u001b[1;32m    522\u001b[0m \u001b[43m            \u001b[49m\u001b[43mparams\u001b[49m\u001b[38;5;241;43m=\u001b[39;49m\u001b[43mparams\u001b[49m\u001b[43m,\u001b[49m\n\u001b[1;32m    523\u001b[0m \u001b[43m            \u001b[49m\u001b[43mpath\u001b[49m\u001b[38;5;241;43m=\u001b[39;49m\u001b[43mpath\u001b[49m\u001b[43m,\u001b[49m\n\u001b[1;32m    524\u001b[0m \u001b[43m        \u001b[49m\u001b[43m)\u001b[49m\n\u001b[1;32m    525\u001b[0m     )\n",
            "File \u001b[0;32m~/venv/lib/python3.9/site-packages/praw/util/deprecate_args.py:43\u001b[0m, in \u001b[0;36m_deprecate_args.<locals>.wrapper.<locals>.wrapped\u001b[0;34m(*args, **kwargs)\u001b[0m\n\u001b[1;32m     36\u001b[0m     arg_string \u001b[38;5;241m=\u001b[39m _generate_arg_string(_old_args[: \u001b[38;5;28mlen\u001b[39m(args)])\n\u001b[1;32m     37\u001b[0m     warn(\n\u001b[1;32m     38\u001b[0m         \u001b[38;5;124mf\u001b[39m\u001b[38;5;124m\"\u001b[39m\u001b[38;5;124mPositional arguments for \u001b[39m\u001b[38;5;132;01m{\u001b[39;00mfunc\u001b[38;5;241m.\u001b[39m\u001b[38;5;18m__qualname__\u001b[39m\u001b[38;5;132;01m!r}\u001b[39;00m\u001b[38;5;124m will no longer be\u001b[39m\u001b[38;5;124m\"\u001b[39m\n\u001b[1;32m     39\u001b[0m         \u001b[38;5;124mf\u001b[39m\u001b[38;5;124m\"\u001b[39m\u001b[38;5;124m supported in PRAW 8.\u001b[39m\u001b[38;5;130;01m\\n\u001b[39;00m\u001b[38;5;124mCall this function with \u001b[39m\u001b[38;5;132;01m{\u001b[39;00marg_string\u001b[38;5;132;01m}\u001b[39;00m\u001b[38;5;124m.\u001b[39m\u001b[38;5;124m\"\u001b[39m,\n\u001b[1;32m     40\u001b[0m         \u001b[38;5;167;01mDeprecationWarning\u001b[39;00m,\n\u001b[1;32m     41\u001b[0m         stacklevel\u001b[38;5;241m=\u001b[39m\u001b[38;5;241m2\u001b[39m,\n\u001b[1;32m     42\u001b[0m     )\n\u001b[0;32m---> 43\u001b[0m \u001b[38;5;28;01mreturn\u001b[39;00m \u001b[43mfunc\u001b[49m\u001b[43m(\u001b[49m\u001b[38;5;241;43m*\u001b[39;49m\u001b[38;5;241;43m*\u001b[39;49m\u001b[38;5;28;43mdict\u001b[39;49m\u001b[43m(\u001b[49m\u001b[38;5;28;43mzip\u001b[39;49m\u001b[43m(\u001b[49m\u001b[43m_old_args\u001b[49m\u001b[43m,\u001b[49m\u001b[43m \u001b[49m\u001b[43margs\u001b[49m\u001b[43m)\u001b[49m\u001b[43m)\u001b[49m\u001b[43m,\u001b[49m\u001b[43m \u001b[49m\u001b[38;5;241;43m*\u001b[39;49m\u001b[38;5;241;43m*\u001b[39;49m\u001b[43mkwargs\u001b[49m\u001b[43m)\u001b[49m\n",
            "File \u001b[0;32m~/venv/lib/python3.9/site-packages/praw/reddit.py:941\u001b[0m, in \u001b[0;36mReddit.request\u001b[0;34m(self, data, files, json, method, params, path)\u001b[0m\n\u001b[1;32m    939\u001b[0m     \u001b[38;5;28;01mraise\u001b[39;00m ClientException(\u001b[38;5;124m\"\u001b[39m\u001b[38;5;124mAt most one of \u001b[39m\u001b[38;5;124m'\u001b[39m\u001b[38;5;124mdata\u001b[39m\u001b[38;5;124m'\u001b[39m\u001b[38;5;124m or \u001b[39m\u001b[38;5;124m'\u001b[39m\u001b[38;5;124mjson\u001b[39m\u001b[38;5;124m'\u001b[39m\u001b[38;5;124m is supported.\u001b[39m\u001b[38;5;124m\"\u001b[39m)\n\u001b[1;32m    940\u001b[0m \u001b[38;5;28;01mtry\u001b[39;00m:\n\u001b[0;32m--> 941\u001b[0m     \u001b[38;5;28;01mreturn\u001b[39;00m \u001b[38;5;28;43mself\u001b[39;49m\u001b[38;5;241;43m.\u001b[39;49m\u001b[43m_core\u001b[49m\u001b[38;5;241;43m.\u001b[39;49m\u001b[43mrequest\u001b[49m\u001b[43m(\u001b[49m\n\u001b[1;32m    942\u001b[0m \u001b[43m        \u001b[49m\u001b[43mdata\u001b[49m\u001b[38;5;241;43m=\u001b[39;49m\u001b[43mdata\u001b[49m\u001b[43m,\u001b[49m\n\u001b[1;32m    943\u001b[0m \u001b[43m        \u001b[49m\u001b[43mfiles\u001b[49m\u001b[38;5;241;43m=\u001b[39;49m\u001b[43mfiles\u001b[49m\u001b[43m,\u001b[49m\n\u001b[1;32m    944\u001b[0m \u001b[43m        \u001b[49m\u001b[43mjson\u001b[49m\u001b[38;5;241;43m=\u001b[39;49m\u001b[43mjson\u001b[49m\u001b[43m,\u001b[49m\n\u001b[1;32m    945\u001b[0m \u001b[43m        \u001b[49m\u001b[43mmethod\u001b[49m\u001b[38;5;241;43m=\u001b[39;49m\u001b[43mmethod\u001b[49m\u001b[43m,\u001b[49m\n\u001b[1;32m    946\u001b[0m \u001b[43m        \u001b[49m\u001b[43mparams\u001b[49m\u001b[38;5;241;43m=\u001b[39;49m\u001b[43mparams\u001b[49m\u001b[43m,\u001b[49m\n\u001b[1;32m    947\u001b[0m \u001b[43m        \u001b[49m\u001b[43mpath\u001b[49m\u001b[38;5;241;43m=\u001b[39;49m\u001b[43mpath\u001b[49m\u001b[43m,\u001b[49m\n\u001b[1;32m    948\u001b[0m \u001b[43m    \u001b[49m\u001b[43m)\u001b[49m\n\u001b[1;32m    949\u001b[0m \u001b[38;5;28;01mexcept\u001b[39;00m BadRequest \u001b[38;5;28;01mas\u001b[39;00m exception:\n\u001b[1;32m    950\u001b[0m     \u001b[38;5;28;01mtry\u001b[39;00m:\n",
            "File \u001b[0;32m~/venv/lib/python3.9/site-packages/prawcore/sessions.py:328\u001b[0m, in \u001b[0;36mSession.request\u001b[0;34m(self, method, path, data, files, json, params, timeout)\u001b[0m\n\u001b[1;32m    326\u001b[0m     json[\u001b[38;5;124m\"\u001b[39m\u001b[38;5;124mapi_type\u001b[39m\u001b[38;5;124m\"\u001b[39m] \u001b[38;5;241m=\u001b[39m \u001b[38;5;124m\"\u001b[39m\u001b[38;5;124mjson\u001b[39m\u001b[38;5;124m\"\u001b[39m\n\u001b[1;32m    327\u001b[0m url \u001b[38;5;241m=\u001b[39m urljoin(\u001b[38;5;28mself\u001b[39m\u001b[38;5;241m.\u001b[39m_requestor\u001b[38;5;241m.\u001b[39moauth_url, path)\n\u001b[0;32m--> 328\u001b[0m \u001b[38;5;28;01mreturn\u001b[39;00m \u001b[38;5;28;43mself\u001b[39;49m\u001b[38;5;241;43m.\u001b[39;49m\u001b[43m_request_with_retries\u001b[49m\u001b[43m(\u001b[49m\n\u001b[1;32m    329\u001b[0m \u001b[43m    \u001b[49m\u001b[43mdata\u001b[49m\u001b[38;5;241;43m=\u001b[39;49m\u001b[43mdata\u001b[49m\u001b[43m,\u001b[49m\n\u001b[1;32m    330\u001b[0m \u001b[43m    \u001b[49m\u001b[43mfiles\u001b[49m\u001b[38;5;241;43m=\u001b[39;49m\u001b[43mfiles\u001b[49m\u001b[43m,\u001b[49m\n\u001b[1;32m    331\u001b[0m \u001b[43m    \u001b[49m\u001b[43mjson\u001b[49m\u001b[38;5;241;43m=\u001b[39;49m\u001b[43mjson\u001b[49m\u001b[43m,\u001b[49m\n\u001b[1;32m    332\u001b[0m \u001b[43m    \u001b[49m\u001b[43mmethod\u001b[49m\u001b[38;5;241;43m=\u001b[39;49m\u001b[43mmethod\u001b[49m\u001b[43m,\u001b[49m\n\u001b[1;32m    333\u001b[0m \u001b[43m    \u001b[49m\u001b[43mparams\u001b[49m\u001b[38;5;241;43m=\u001b[39;49m\u001b[43mparams\u001b[49m\u001b[43m,\u001b[49m\n\u001b[1;32m    334\u001b[0m \u001b[43m    \u001b[49m\u001b[43mtimeout\u001b[49m\u001b[38;5;241;43m=\u001b[39;49m\u001b[43mtimeout\u001b[49m\u001b[43m,\u001b[49m\n\u001b[1;32m    335\u001b[0m \u001b[43m    \u001b[49m\u001b[43murl\u001b[49m\u001b[38;5;241;43m=\u001b[39;49m\u001b[43murl\u001b[49m\u001b[43m,\u001b[49m\n\u001b[1;32m    336\u001b[0m \u001b[43m\u001b[49m\u001b[43m)\u001b[49m\n",
            "File \u001b[0;32m~/venv/lib/python3.9/site-packages/prawcore/sessions.py:267\u001b[0m, in \u001b[0;36mSession._request_with_retries\u001b[0;34m(self, data, files, json, method, params, timeout, url, retry_strategy_state)\u001b[0m\n\u001b[1;32m    254\u001b[0m     \u001b[38;5;28;01mreturn\u001b[39;00m \u001b[38;5;28mself\u001b[39m\u001b[38;5;241m.\u001b[39m_do_retry(\n\u001b[1;32m    255\u001b[0m         data,\n\u001b[1;32m    256\u001b[0m         files,\n\u001b[0;32m   (...)\u001b[0m\n\u001b[1;32m    264\u001b[0m         url,\n\u001b[1;32m    265\u001b[0m     )\n\u001b[1;32m    266\u001b[0m \u001b[38;5;28;01mif\u001b[39;00m response\u001b[38;5;241m.\u001b[39mstatus_code \u001b[38;5;129;01min\u001b[39;00m \u001b[38;5;28mself\u001b[39m\u001b[38;5;241m.\u001b[39mSTATUS_EXCEPTIONS:\n\u001b[0;32m--> 267\u001b[0m     \u001b[38;5;28;01mraise\u001b[39;00m \u001b[38;5;28mself\u001b[39m\u001b[38;5;241m.\u001b[39mSTATUS_EXCEPTIONS[response\u001b[38;5;241m.\u001b[39mstatus_code](response)\n\u001b[1;32m    268\u001b[0m \u001b[38;5;28;01mif\u001b[39;00m response\u001b[38;5;241m.\u001b[39mstatus_code \u001b[38;5;241m==\u001b[39m codes[\u001b[38;5;124m\"\u001b[39m\u001b[38;5;124mno_content\u001b[39m\u001b[38;5;124m\"\u001b[39m]:\n\u001b[1;32m    269\u001b[0m     \u001b[38;5;28;01mreturn\u001b[39;00m \u001b[38;5;28;01mNone\u001b[39;00m\n",
            "\u001b[0;31mTooManyRequests\u001b[0m: received 429 HTTP response"
          ]
        }
      ],
      "execution_count": 16,
      "block_group": "9c7bef728df44d728f1b360d8d66f3bd"
    },
    {
      "cell_type": "code",
      "source": "# Specify the path for saving the combined CSV file\ncombined_csv_file_path = f'{github_linked_folder}0_all_comments_data.csv'\n\n# Saving the combined CSV file\nall_comments_data.to_csv(combined_csv_file_path, index=False, encoding='utf-8')",
      "metadata": {
        "source_hash": "f96c2001",
        "execution_start": 1704222909121,
        "execution_millis": 408,
        "deepnote_to_be_reexecuted": false,
        "cell_id": "ba103e92ac134e3598278f5219c2d73d",
        "deepnote_cell_type": "code"
      },
      "outputs": [],
      "execution_count": 11,
      "block_group": "161f8b1d96394a1c85dc323f88d476e9"
    },
    {
      "cell_type": "markdown",
      "source": "### End of intervention",
      "metadata": {
        "formattedRanges": [],
        "cell_id": "802646f703264c42bae1a8fb6abdd5d6",
        "deepnote_cell_type": "text-cell-h3"
      },
      "block_group": "74ececa5fc2743a0ac6d48efbfa6cec0"
    },
    {
      "cell_type": "markdown",
      "source": "### Creating a summary of subreddit posts",
      "metadata": {
        "formattedRanges": [],
        "cell_id": "15aff740b7644fd6ae236535349f0ba2",
        "deepnote_cell_type": "text-cell-h3"
      },
      "block_group": "f33c1b908d2b44a2895ecf570ed597eb"
    },
    {
      "cell_type": "code",
      "source": "# Create a summary DataFrame with the total number of comments for each post\nsummary_data = all_comments_data.groupby(['subreddit', 'post_title']).size().reset_index(name='total_comments')\n\n# Add the 'url' column based on the predefined URLs\nsummary_data['url'] = summary_data['subreddit'].map(post_urls_for_each_subreddit)\n\n# Add a 'post_id' column using the index as a unique identifier\nsummary_data['post_id'] = summary_data.index.map(lambda x: f'{x+1:03d}')\n\n# Apply the get_sentiment function to each row and append the sentiment information\nsummary_data['post_sentiment'] = summary_data['post_title'].apply(get_sentiment)\n\n# Rearrange the order of columns\nsummary_data = summary_data[['subreddit', 'post_id', 'post_sentiment', 'post_title', 'total_comments', 'url']]\n\n# Specifying the path for saving the overall summary CSV file\noverall_summary_csv_file_path = '/work/GitHub_ML_Deepnote/Machine Learning/1. Extracted Reddit Data/0_subreddits_summary.csv'\n\n# Save the overall summary CSV file\nsummary_data.to_csv(overall_summary_csv_file_path, index=False)\n\n# Display the overall summary data\nprint(summary_data)",
      "metadata": {
        "source_hash": "b2a1f269",
        "execution_start": 1704222909532,
        "execution_millis": 274,
        "deepnote_to_be_reexecuted": true,
        "cell_id": "c90b5c1ee38840da8684d949c0cc2d9d",
        "deepnote_cell_type": "code"
      },
      "outputs": [
        {
          "name": "stdout",
          "text": "               subreddit post_id post_sentiment  \\\n0  ArtificialInteligence     001        neutral   \n1  ArtificialInteligence     002        neutral   \n2  ArtificialInteligence     003       positive   \n3             Futurology     004       positive   \n4             Futurology     005       positive   \n5             Futurology     006       positive   \n6             Futurology     007       negative   \n7             Futurology     008       negative   \n8            singularity     009       negative   \n\n                                          post_title  total_comments  \\\n0                      \"AI is gonna ruin the world!\"             100   \n1  I think AI should be removed from public use b...              39   \n2  What is expected to gain from an AI safety sum...              59   \n3  AI fear-mongering is irrational panic, and it’...             423   \n4  An Honest admission, I fear the upcoming techn...             755   \n5  Is doomsday talk about AI a result of billiona...             247   \n6  OpenAI CEO: It's Not Funny That I'm Afraid of ...            1731   \n7  Why do we fear artificial intelligence and/or ...              42   \n8  I don't fear malicious or rogue AI - I fear ho...             153   \n\n                                                 url  \n0  [https://www.reddit.com/r/ArtificialInteligenc...  \n1  [https://www.reddit.com/r/ArtificialInteligenc...  \n2  [https://www.reddit.com/r/ArtificialInteligenc...  \n3  [https://www.reddit.com/r/Futurology/comments/...  \n4  [https://www.reddit.com/r/Futurology/comments/...  \n5  [https://www.reddit.com/r/Futurology/comments/...  \n6  [https://www.reddit.com/r/Futurology/comments/...  \n7  [https://www.reddit.com/r/Futurology/comments/...  \n8  [https://www.reddit.com/r/singularity/comments...  \n",
          "output_type": "stream"
        }
      ],
      "execution_count": 12,
      "block_group": "a595443536354e1587499c36e0cd8dab"
    },
    {
      "cell_type": "code",
      "source": "unique_subreddits_count = summary_data['subreddit'].nunique()\nprint(f'Total unique subreddits: {unique_subreddits_count}')",
      "metadata": {
        "source_hash": "46e59513",
        "execution_start": 1704222909806,
        "execution_millis": 23,
        "deepnote_to_be_reexecuted": false,
        "cell_id": "28c99e0ea5e644a9b959a76d96fd0dc9",
        "deepnote_cell_type": "code"
      },
      "outputs": [
        {
          "name": "stdout",
          "text": "Total unique subreddits: 3\n",
          "output_type": "stream"
        }
      ],
      "execution_count": 13,
      "block_group": "335ddc03a9a64dc988220592b873382e"
    },
    {
      "cell_type": "markdown",
      "source": "<a style='text-decoration:none;line-height:16px;display:flex;color:#5B5B62;padding:10px;justify-content:end;' href='https://deepnote.com?utm_source=created-in-deepnote-cell&projectId=f64215d6-debc-46bd-b273-63565459a66d' target=\"_blank\">\n<img alt='Created in deepnote.com' style='display:inline;max-height:16px;margin:0px;margin-right:7.5px;' src='data:image/svg+xml;base64,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' > </img>\nCreated in <span style='font-weight:600;margin-left:4px;'>Deepnote</span></a>",
      "metadata": {
        "created_in_deepnote_cell": true,
        "deepnote_cell_type": "markdown"
      }
    }
  ],
  "nbformat": 4,
  "nbformat_minor": 0,
  "metadata": {
    "deepnote_persisted_session": {
      "createdAt": "2024-01-02T17:00:19.491Z"
    },
    "deepnote_notebook_id": "668d44b62c5e4f4f952579ee125a1372",
    "deepnote_execution_queue": []
  }
}